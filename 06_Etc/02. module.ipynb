{
 "cells": [
  {
   "cell_type": "markdown",
   "metadata": {},
   "source": [
    "# 6.2 모듈\n",
    "- 이미 작성된 파이썬 코드를 의미한다\n",
    "- 작성된 파이썬 코드를 다른 파일에서 import하면 사용할 수 있다"
   ]
  },
  {
   "cell_type": "markdown",
   "metadata": {},
   "source": [
    "## 내장된 모듈 사용"
   ]
  },
  {
   "cell_type": "code",
   "execution_count": 5,
   "metadata": {},
   "outputs": [
    {
     "name": "stdout",
     "output_type": "stream",
     "text": [
      "3628800\n",
      "4294967296.0\n",
      "6.907755278982137\n",
      "3.141592653589793\n"
     ]
    }
   ],
   "source": [
    "import math\n",
    "\n",
    "print(math.factorial(10))\n",
    "print(math.pow(2, 32))\n",
    "print(math.log(1000))\n",
    "print(math.pi)"
   ]
  },
  {
   "cell_type": "markdown",
   "metadata": {},
   "source": [
    "## 직접 만든 모듈 사용하기"
   ]
  },
  {
   "cell_type": "code",
   "execution_count": 8,
   "metadata": {},
   "outputs": [
    {
     "name": "stdout",
     "output_type": "stream",
     "text": [
      "6\n",
      "21\n",
      "45\n",
      "55\n",
      "6\n",
      "720\n",
      "362880\n",
      "3628800\n"
     ]
    },
    {
     "ename": "AttributeError",
     "evalue": "module 'arith' has no attribute 'PI'",
     "output_type": "error",
     "traceback": [
      "\u001b[1;31m---------------------------------------------------------------------------\u001b[0m",
      "\u001b[1;31mAttributeError\u001b[0m                            Traceback (most recent call last)",
      "Cell \u001b[1;32mIn[8], line 13\u001b[0m\n\u001b[0;32m     10\u001b[0m \u001b[38;5;28mprint\u001b[39m(arith\u001b[38;5;241m.\u001b[39mmul(\u001b[38;5;241m1\u001b[39m, \u001b[38;5;241m2\u001b[39m, \u001b[38;5;241m3\u001b[39m, \u001b[38;5;241m4\u001b[39m, \u001b[38;5;241m5\u001b[39m, \u001b[38;5;241m6\u001b[39m, \u001b[38;5;241m7\u001b[39m, \u001b[38;5;241m8\u001b[39m, \u001b[38;5;241m9\u001b[39m))\n\u001b[0;32m     11\u001b[0m \u001b[38;5;28mprint\u001b[39m(arith\u001b[38;5;241m.\u001b[39mmul(\u001b[38;5;241m1\u001b[39m, \u001b[38;5;241m2\u001b[39m, \u001b[38;5;241m3\u001b[39m, \u001b[38;5;241m4\u001b[39m, \u001b[38;5;241m5\u001b[39m, \u001b[38;5;241m6\u001b[39m, \u001b[38;5;241m7\u001b[39m, \u001b[38;5;241m8\u001b[39m, \u001b[38;5;241m9\u001b[39m, \u001b[38;5;241m10\u001b[39m))\n\u001b[1;32m---> 13\u001b[0m \u001b[38;5;28mprint\u001b[39m(arith\u001b[38;5;241m.\u001b[39mPI)\n",
      "\u001b[1;31mAttributeError\u001b[0m: module 'arith' has no attribute 'PI'"
     ]
    }
   ],
   "source": [
    "import arith\n",
    "\n",
    "print(arith.add(1, 2, 3))\n",
    "print(arith.add(1, 2, 3, 4, 5, 6))\n",
    "print(arith.add(1, 2, 3, 4, 5, 6, 7, 8, 9))\n",
    "print(arith.add(1, 2, 3, 4, 5, 6, 7, 8, 9, 10))\n",
    "\n",
    "print(arith.mul(1, 2, 3))\n",
    "print(arith.mul(1, 2, 3, 4, 5, 6))\n",
    "print(arith.mul(1, 2, 3, 4, 5, 6, 7, 8, 9))\n",
    "print(arith.mul(1, 2, 3, 4, 5, 6, 7, 8, 9, 10))\n",
    "\n",
    "print(arith.PI)"
   ]
  },
  {
   "cell_type": "markdown",
   "metadata": {},
   "source": [
    "## 모듈 이름을 생략하고 import 하는 방법"
   ]
  },
  {
   "cell_type": "code",
   "execution_count": 9,
   "metadata": {},
   "outputs": [
    {
     "name": "stdout",
     "output_type": "stream",
     "text": [
      "6\n",
      "21\n",
      "45\n",
      "55\n",
      "6\n",
      "720\n",
      "362880\n",
      "3628800\n"
     ]
    }
   ],
   "source": [
    "from arith import *\n",
    "\n",
    "print(add(1, 2, 3))\n",
    "print(add(1, 2, 3, 4, 5, 6))\n",
    "print(add(1, 2, 3, 4, 5, 6, 7, 8, 9))\n",
    "print(add(1, 2, 3, 4, 5, 6, 7, 8, 9, 10))\n",
    "\n",
    "print(mul(1, 2, 3))\n",
    "print(mul(1, 2, 3, 4, 5, 6))\n",
    "print(mul(1, 2, 3, 4, 5, 6, 7, 8, 9))\n",
    "print(mul(1, 2, 3, 4, 5, 6, 7, 8, 9, 10))"
   ]
  },
  {
   "cell_type": "markdown",
   "metadata": {},
   "source": [
    "## 모듈 이름을 생략하고 필요한 것만 import 하는 방법"
   ]
  },
  {
   "cell_type": "code",
   "execution_count": 10,
   "metadata": {},
   "outputs": [
    {
     "name": "stdout",
     "output_type": "stream",
     "text": [
      "6\n",
      "720\n",
      "362880\n",
      "3628800\n",
      "0.16666666666666666\n",
      "0.001388888888888889\n",
      "2.7557319223985893e-06\n",
      "2.7557319223985894e-07\n"
     ]
    }
   ],
   "source": [
    "from arith import mul, div\n",
    "\n",
    "print(mul(1, 2, 3))\n",
    "print(mul(1, 2, 3, 4, 5, 6))\n",
    "print(mul(1, 2, 3, 4, 5, 6, 7, 8, 9))\n",
    "print(mul(1, 2, 3, 4, 5, 6, 7, 8, 9, 10))\n",
    "\n",
    "print(div(1, 2, 3))\n",
    "print(div(1, 2, 3, 4, 5, 6))\n",
    "print(div(1, 2, 3, 4, 5, 6, 7, 8, 9))\n",
    "print(div(1, 2, 3, 4, 5, 6, 7, 8, 9, 10))"
   ]
  },
  {
   "cell_type": "code",
   "execution_count": null,
   "metadata": {},
   "outputs": [],
   "source": []
  }
 ],
 "metadata": {
  "kernelspec": {
   "display_name": "base",
   "language": "python",
   "name": "python3"
  },
  "language_info": {
   "codemirror_mode": {
    "name": "ipython",
    "version": 3
   },
   "file_extension": ".py",
   "mimetype": "text/x-python",
   "name": "python",
   "nbconvert_exporter": "python",
   "pygments_lexer": "ipython3",
   "version": "3.12.4"
  }
 },
 "nbformat": 4,
 "nbformat_minor": 2
}
