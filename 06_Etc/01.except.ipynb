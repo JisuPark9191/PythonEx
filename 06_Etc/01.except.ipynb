{
 "cells": [
  {
   "cell_type": "markdown",
   "metadata": {},
   "source": [
    "# 6.1 except\n",
    "- '예외처리'라고 한다\n",
    "- 프로그램 내부보다 외부와 연결시 프로그램내에서 제어가 불가능한 상황에 처리한다\n",
    "- 키보드 입력, 파일 입출력, 네트워크 통신, DB 통신...\n",
    "- 초창기에는 if~else를 사용했는데, 이 경우 리턴값으로 오류 발생을 확인하므로 \n",
    "  처리->에러방지->처리->에러방지...\n",
    "  처리에만 집중하기 어렵다.\n",
    "  그래서 '예외처리'가 필요하게 되었다.\n",
    "- try:\n",
    "     처리\n",
    "  except:\n",
    "     예외에 대한 처리"
   ]
  },
  {
   "cell_type": "code",
   "execution_count": 8,
   "metadata": {},
   "outputs": [
    {
     "ename": "ValueError",
     "evalue": "invalid literal for int() with base 10: 'ㅁㅁㅁ'",
     "output_type": "error",
     "traceback": [
      "\u001b[1;31m---------------------------------------------------------------------------\u001b[0m",
      "\u001b[1;31mValueError\u001b[0m                                Traceback (most recent call last)",
      "Cell \u001b[1;32mIn[8], line 2\u001b[0m\n\u001b[0;32m      1\u001b[0m num \u001b[38;5;241m=\u001b[39m \u001b[38;5;28minput\u001b[39m(\u001b[38;5;124m'\u001b[39m\u001b[38;5;124m당신의 점수 입력(꼭!!! 정수 입력 해주세요---) >> \u001b[39m\u001b[38;5;124m'\u001b[39m)\n\u001b[1;32m----> 2\u001b[0m score \u001b[38;5;241m=\u001b[39m \u001b[38;5;28mint\u001b[39m(num)\n\u001b[0;32m      3\u001b[0m \u001b[38;5;28;01mif\u001b[39;00m \u001b[38;5;241m90\u001b[39m \u001b[38;5;241m<\u001b[39m\u001b[38;5;241m=\u001b[39m score \u001b[38;5;241m<\u001b[39m\u001b[38;5;241m=\u001b[39m \u001b[38;5;241m100\u001b[39m:\n\u001b[0;32m      4\u001b[0m     \u001b[38;5;28mprint\u001b[39m(\u001b[38;5;124m'\u001b[39m\u001b[38;5;124mA학점\u001b[39m\u001b[38;5;124m'\u001b[39m)\n",
      "\u001b[1;31mValueError\u001b[0m: invalid literal for int() with base 10: 'ㅁㅁㅁ'"
     ]
    }
   ],
   "source": [
    "num = input('당신의 점수 입력(꼭!!! 정수 입력 해주세요---) >> ')\n",
    "score = int(num)\n",
    "if 90 <= score <= 100:\n",
    "    print('A학점')\n",
    "elif 80 <= score < 90:\n",
    "    print('B학점')\n",
    "elif 70 <= score < 80:\n",
    "    print('C학점')\n",
    "elif 60 <= score < 70:\n",
    "    print('D학점')\n",
    "\n",
    "else:\n",
    "    print('F학점')"
   ]
  },
  {
   "cell_type": "code",
   "execution_count": 4,
   "metadata": {},
   "outputs": [
    {
     "name": "stdout",
     "output_type": "stream",
     "text": [
      "숫자가 아닙니다!!!\n"
     ]
    }
   ],
   "source": [
    "num = input('당신의 점수 입력(꼭!!! 정수 입력 해주세요---) >> ')\n",
    "if num.isdigit()==False:\n",
    "    print(\"숫자가 아닙니다!!!\")\n",
    "else:\n",
    "    score = int(num)\n",
    "    if 90 <= score <= 100:\n",
    "        print('A학점')\n",
    "    elif 80 <= score < 90:\n",
    "        print('B학점')\n",
    "    elif 70 <= score < 80:\n",
    "        print('C학점')\n",
    "    elif 60 <= score < 70:\n",
    "        print('D학점')\n",
    "\n",
    "    else:\n",
    "        print('F학점')"
   ]
  },
  {
   "cell_type": "code",
   "execution_count": 5,
   "metadata": {},
   "outputs": [
    {
     "name": "stdout",
     "output_type": "stream",
     "text": [
      "Exception: invalid literal for int() with base 10: 'aaa'\n"
     ]
    }
   ],
   "source": [
    "num = input('당신의 점수 입력(꼭!!! 정수 입력 해주세요---) >> ')\n",
    "\n",
    "try:\n",
    "    score = int(num)\n",
    "    if 90 <= score <= 100:\n",
    "        print('A학점')\n",
    "    elif 80 <= score < 90:\n",
    "        print('B학점')\n",
    "    elif 70 <= score < 80:\n",
    "        print('C학점')\n",
    "    elif 60 <= score < 70:\n",
    "        print('D학점')\n",
    "    else:\n",
    "        print('F학점')\n",
    "except Exception as e:\n",
    "    print(f'Exception: {e}')\n",
    "    "
   ]
  },
  {
   "cell_type": "code",
   "execution_count": 7,
   "metadata": {},
   "outputs": [
    {
     "name": "stdout",
     "output_type": "stream",
     "text": [
      "Exception: invalid literal for int() with base 10: 'ㅁㅁㅁ'\n"
     ]
    }
   ],
   "source": [
    "num = input('당신의 점수 입력(꼭!!! 정수 입력 해주세요---) >> ')\n",
    "\n",
    "try:\n",
    "    score = int(num)                # 실행\n",
    "except Exception as e:              # 예외처리 영역\n",
    "    print(f'Exception: {e}')\n",
    "else:                               # 정상적일 때 처리 영역\n",
    "    if 90 <= score <= 100:\n",
    "        print('A학점')\n",
    "    elif 80 <= score < 90:\n",
    "        print('B학점')\n",
    "    elif 70 <= score < 80:\n",
    "        print('C학점')\n",
    "    elif 60 <= score < 70:\n",
    "        print('D학점')\n",
    "    else:\n",
    "        print('F학점')"
   ]
  },
  {
   "cell_type": "code",
   "execution_count": 11,
   "metadata": {},
   "outputs": [
    {
     "name": "stdout",
     "output_type": "stream",
     "text": [
      "Exception: invalid literal for int() with base 10: 'aaa'\n",
      "Exception: invalid literal for int() with base 10: 'asdasdfs'\n",
      "A학점\n",
      "D학점\n",
      "End~\n"
     ]
    }
   ],
   "source": [
    "while True:\n",
    "    num = input('당신의 점수 입력(꼭!!! 정수 입력 해주세요---) >> ')    \n",
    "\n",
    "    try:\n",
    "        score = int(num)                # 실행\n",
    "        if score == -1:\n",
    "            break\n",
    "    except Exception as e:              # 예외처리 영역\n",
    "        print(f'Exception: {e}')\n",
    "    else:                               # 정상적일 때 처리 영역\n",
    "        if 90 <= score <= 100:\n",
    "            print('A학점')\n",
    "        elif 80 <= score < 90:\n",
    "            print('B학점')\n",
    "        elif 70 <= score < 80:\n",
    "            print('C학점')\n",
    "        elif 60 <= score < 70:\n",
    "            print('D학점')\n",
    "        else:\n",
    "            print('F학점')\n",
    "\n",
    "print('End~')"
   ]
  },
  {
   "cell_type": "markdown",
   "metadata": {},
   "source": [
    "## 예외의 종류\n",
    "- 파이썬의 모든 예외 클래스는 Exception 클래스의 상속을 받는다.\n",
    "- 그러므로 모든 예외는 Exception으로 받을 수 있다.\n",
    "- 하지만, 예외 종류마다 다르게 처리하고 싶을 때는 해당 예외 클래스를 명시한다"
   ]
  },
  {
   "cell_type": "code",
   "execution_count": 13,
   "metadata": {},
   "outputs": [
    {
     "name": "stdout",
     "output_type": "stream",
     "text": [
      "IndexError: list index out of range\n"
     ]
    }
   ],
   "source": [
    "num0 = int(input('정수 입력 >> '))\n",
    "num1 = int(input('정수 입력 >> '))\n",
    "result = 0\n",
    "numArr = [num0, num1]\n",
    "\n",
    "try:\n",
    "    result = num0 / num1\n",
    "    num = numArr[5]\n",
    "except ZeroDivisionError as e:\n",
    "    print(f'ZeroDivisionError: {e}')\n",
    "except IndexError as e:\n",
    "    print(f'IndexError: {e}')\n",
    "except Exception as e:\n",
    "    print(f'Exception: {e}')\n",
    "else:\n",
    "    print(f'result={result}')"
   ]
  },
  {
   "cell_type": "code",
   "execution_count": null,
   "metadata": {},
   "outputs": [],
   "source": [
    "num0 = int(input('정수 입력 >> '))\n",
    "num1 = int(input('정수 입력 >> '))\n",
    "result = 0\n",
    "\n",
    "try:\n",
    "    result = num0 / num1\n",
    "except Exception as e:\n",
    "    print(f'Exception: {e}')\n",
    "else:\n",
    "    print(f'result={result}')\n",
    "finally:\n",
    "    print('정상/예외 무조건 실행하는 영역')"
   ]
  }
 ],
 "metadata": {
  "kernelspec": {
   "display_name": "base",
   "language": "python",
   "name": "python3"
  },
  "language_info": {
   "codemirror_mode": {
    "name": "ipython",
    "version": 3
   },
   "file_extension": ".py",
   "mimetype": "text/x-python",
   "name": "python",
   "nbconvert_exporter": "python",
   "pygments_lexer": "ipython3",
   "version": "3.12.4"
  }
 },
 "nbformat": 4,
 "nbformat_minor": 2
}
