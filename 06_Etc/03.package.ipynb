{
 "cells": [
  {
   "cell_type": "markdown",
   "metadata": {},
   "source": [
    "# 패키지\n",
    "- 모듈의 집합\n",
    "- 폴더에 __init__.py에 모듈명을 입력하면 된다.\n",
    "- __all__ = ['add', 'sub', 'mul', 'div']"
   ]
  },
  {
   "cell_type": "code",
   "execution_count": 1,
   "metadata": {},
   "outputs": [
    {
     "name": "stdout",
     "output_type": "stream",
     "text": [
      "Help on module pkg.arith.add in pkg.arith:\n",
      "\n",
      "NAME\n",
      "    pkg.arith.add\n",
      "\n",
      "FUNCTIONS\n",
      "    fadd(a, b)\n",
      "        더하기 함수\n",
      "\n",
      "FILE\n",
      "    d:\\lecture\\pythonex\\06_etc\\pkg\\arith\\add.py\n",
      "\n",
      "\n"
     ]
    }
   ],
   "source": [
    "from pkg.arith import *\n",
    "\n",
    "help(add)"
   ]
  },
  {
   "cell_type": "code",
   "execution_count": 2,
   "metadata": {},
   "outputs": [
    {
     "name": "stdout",
     "output_type": "stream",
     "text": [
      "30\n",
      "-10\n",
      "200\n",
      "0.5\n"
     ]
    }
   ],
   "source": [
    "print(add.fadd(10, 20))\n",
    "print(sub.fsub(10, 20))\n",
    "print(mul.fmul(10, 20))\n",
    "print(div.fdiv(10, 20))"
   ]
  },
  {
   "cell_type": "code",
   "execution_count": 3,
   "metadata": {},
   "outputs": [
    {
     "name": "stdout",
     "output_type": "stream",
     "text": [
      "name: 할아버지\n",
      "age: 98\n",
      "money: 100000000\n",
      "돈 100000000으로 인생이 행복하다~\n",
      "name: 아버지\n",
      "age: 67\n",
      "money: 500000000\n",
      "knowledge : AI\n",
      "돈 500000000으로 인생이 행복하다~\n",
      "AI를 얻기 위해 공부를 한다\n",
      "name: 나\n",
      "age: 33\n",
      "money: 9999999\n",
      "knowledge : Cloud\n",
      "power: 3대 1000kg\n",
      "돈 9999999으로 인생이 행복하다~\n",
      "Cloud를 얻기 위해 공부를 한다\n",
      "3대 1000kg를 들기 위해 운동을 한다.\n"
     ]
    }
   ],
   "source": [
    "from pkg.human import *\n",
    "\n",
    "gf = grandfather.cgrandfather('할아버지', 98, 100000000)\n",
    "gf.intro()\n",
    "gf.happy()\n",
    "\n",
    "ft = father.cfather('아버지', 67, 500000000, 'AI')\n",
    "ft.intro()\n",
    "ft.happy()\n",
    "ft.study()\n",
    "\n",
    "\n",
    "my = me.cme('나', 33, 9999999, 'Cloud', '3대 1000kg')\n",
    "my.intro()\n",
    "my.happy()\n",
    "my.study()\n",
    "my.health()"
   ]
  },
  {
   "cell_type": "code",
   "execution_count": null,
   "metadata": {},
   "outputs": [],
   "source": []
  }
 ],
 "metadata": {
  "kernelspec": {
   "display_name": "base",
   "language": "python",
   "name": "python3"
  },
  "language_info": {
   "codemirror_mode": {
    "name": "ipython",
    "version": 3
   },
   "file_extension": ".py",
   "mimetype": "text/x-python",
   "name": "python",
   "nbconvert_exporter": "python",
   "pygments_lexer": "ipython3",
   "version": "3.12.4"
  }
 },
 "nbformat": 4,
 "nbformat_minor": 2
}
