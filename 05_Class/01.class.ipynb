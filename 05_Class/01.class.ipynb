{
 "cells": [
  {
   "cell_type": "markdown",
   "metadata": {},
   "source": [
    "# 5.1 class\n",
    "- 클래스는 시기적으로 함수보다 나중에 나왔고, 더 큰 단위가 요구됨에 따라 만들어졌다\n",
    "- 필드(변수)와 메서드(함수)를 포함하므로 함수에 비해 더 독립적 성향이 강해졌다.\n",
    "- 클래스는 사용자 자료형이고, 클래스의 변수는 객체라고 부른다"
   ]
  },
  {
   "cell_type": "markdown",
   "metadata": {},
   "source": [
    "## 함수 단위 코딩"
   ]
  },
  {
   "cell_type": "code",
   "execution_count": 1,
   "metadata": {},
   "outputs": [
    {
     "name": "stdout",
     "output_type": "stream",
     "text": [
      "30\n",
      "-10\n",
      "200\n",
      "0.5\n"
     ]
    }
   ],
   "source": [
    "def add(a, b):\n",
    "    return a+b\n",
    "def sub(a, b):\n",
    "    return a-b\n",
    "def mul(a, b):\n",
    "    return a*b\n",
    "def div(a, b):\n",
    "    return a/b\n",
    "\n",
    "print(add(a=10, b=20))\n",
    "print(sub(a=10, b=20))\n",
    "print(mul(a=10, b=20))\n",
    "print(div(a=10, b=20))"
   ]
  },
  {
   "cell_type": "markdown",
   "metadata": {},
   "source": [
    "## 클래스 단위 코딩"
   ]
  },
  {
   "cell_type": "code",
   "execution_count": 2,
   "metadata": {},
   "outputs": [],
   "source": [
    "class Arith:\n",
    "    def add(self, a, b):\n",
    "        return a+b\n",
    "    def sub(self, a, b):\n",
    "        return a-b\n",
    "    def mul(self, a, b):\n",
    "        return a*b\n",
    "    def div(self, a, b):\n",
    "        return a/b"
   ]
  },
  {
   "cell_type": "code",
   "execution_count": 3,
   "metadata": {},
   "outputs": [
    {
     "name": "stdout",
     "output_type": "stream",
     "text": [
      "150\n",
      "50\n",
      "5000\n",
      "2.0\n"
     ]
    }
   ],
   "source": [
    "arith = Arith()         # 객체 선언\n",
    "print(arith.add(a=100, b=50))       # add(arith, 100, 50)\n",
    "print(arith.sub(a=100, b=50))       # sub(arith, 100, 50)\n",
    "print(arith.mul(a=100, b=50))       # mul(arith, 100, 50)\n",
    "print(arith.div(a=100, b=50))       # div(arith, 100, 50)"
   ]
  },
  {
   "cell_type": "markdown",
   "metadata": {},
   "source": [
    "## 생성자"
   ]
  },
  {
   "cell_type": "code",
   "execution_count": 4,
   "metadata": {},
   "outputs": [],
   "source": [
    "class Human:\n",
    "    def initialization(self, name, age):\n",
    "        self.name = name                    # 객체 별로 생성되는 필드\n",
    "        self.age = age                      # 객체 별로 생성되는 필드\n",
    "    def showInfo(self):\n",
    "        print(f'name: {self.name}')\n",
    "        print(f'age: {self.age}')"
   ]
  },
  {
   "cell_type": "code",
   "execution_count": 5,
   "metadata": {},
   "outputs": [
    {
     "name": "stdout",
     "output_type": "stream",
     "text": [
      "name: 홍길동\n",
      "age: 24\n"
     ]
    }
   ],
   "source": [
    "hong = Human()\n",
    "hong.initialization('홍길동', 24)\n",
    "hong.showInfo()"
   ]
  },
  {
   "cell_type": "code",
   "execution_count": 6,
   "metadata": {},
   "outputs": [
    {
     "name": "stdout",
     "output_type": "stream",
     "text": [
      "name: 나폴레옹\n",
      "age: 33\n"
     ]
    }
   ],
   "source": [
    "naple = Human()\n",
    "naple.initialization('나폴레옹', 33)\n",
    "naple.showInfo()"
   ]
  },
  {
   "cell_type": "code",
   "execution_count": 7,
   "metadata": {},
   "outputs": [],
   "source": [
    "class Human:\n",
    "    def __init__(self, name, age):      # 생성자 함수\n",
    "        self.name = name                   \n",
    "        self.age = age                     \n",
    "    def showInfo(self):\n",
    "        print(f'name: {self.name}')\n",
    "        print(f'age: {self.age}')"
   ]
  },
  {
   "cell_type": "code",
   "execution_count": 9,
   "metadata": {},
   "outputs": [
    {
     "name": "stdout",
     "output_type": "stream",
     "text": [
      "name: 홍길동\n",
      "age: 24\n",
      "name: 나폴레옹\n",
      "age: 33\n"
     ]
    }
   ],
   "source": [
    "hong = Human('홍길동', 24)\n",
    "hong.showInfo()\n",
    "\n",
    "naple = Human('나폴레옹', 33)\n",
    "naple.showInfo()"
   ]
  },
  {
   "cell_type": "markdown",
   "metadata": {},
   "source": [
    "## 소멸자"
   ]
  },
  {
   "cell_type": "code",
   "execution_count": 10,
   "metadata": {},
   "outputs": [],
   "source": [
    "class Dog:\n",
    "    def __init__(self, name, color):\n",
    "        self.name = name\n",
    "        self.color = color\n",
    "        print(\"생성자 호출~\")\n",
    "    def __del__(self):\n",
    "        print(\"소멸자 호출~\")\n",
    "    def play(self):\n",
    "        print(f\"{self.color}색을 가진 {self.name}이 즐겁게 뛰어다닌다\")"
   ]
  },
  {
   "cell_type": "code",
   "execution_count": 11,
   "metadata": {},
   "outputs": [
    {
     "name": "stdout",
     "output_type": "stream",
     "text": [
      "생성자 호출~\n",
      "생성자 호출~\n",
      "생성자 호출~\n",
      "White색을 가진 삐삐이 즐겁게 뛰어다닌다\n",
      "Black색을 가진 덕구이 즐겁게 뛰어다닌다\n",
      "Yellow색을 가진 메리이 즐겁게 뛰어다닌다\n"
     ]
    }
   ],
   "source": [
    "pipi = Dog('삐삐', 'White')\n",
    "duggu = Dog('덕구', 'Black')\n",
    "mery = Dog('메리', 'Yellow')\n",
    "\n",
    "pipi.play()\n",
    "duggu.play()\n",
    "mery.play()"
   ]
  },
  {
   "cell_type": "code",
   "execution_count": 12,
   "metadata": {},
   "outputs": [
    {
     "name": "stdout",
     "output_type": "stream",
     "text": [
      "소멸자 호출~\n",
      "소멸자 호출~\n",
      "소멸자 호출~\n"
     ]
    }
   ],
   "source": [
    "del pipi\n",
    "del duggu\n",
    "del mery"
   ]
  },
  {
   "cell_type": "code",
   "execution_count": null,
   "metadata": {},
   "outputs": [],
   "source": []
  }
 ],
 "metadata": {
  "kernelspec": {
   "display_name": "base",
   "language": "python",
   "name": "python3"
  },
  "language_info": {
   "codemirror_mode": {
    "name": "ipython",
    "version": 3
   },
   "file_extension": ".py",
   "mimetype": "text/x-python",
   "name": "python",
   "nbconvert_exporter": "python",
   "pygments_lexer": "ipython3",
   "version": "3.12.4"
  }
 },
 "nbformat": 4,
 "nbformat_minor": 2
}
