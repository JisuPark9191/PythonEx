{
 "cells": [
  {
   "cell_type": "markdown",
   "metadata": {},
   "source": [
    "# 상속\n",
    "\n",
    "- 상속은 부모 클래스의 모든 기능을 물려받는다\n",
    "- 기능을 기하급수적으로 확장할 수 있다\n",
    "- 모든 클래스 최상위 부모는 자동으로 python의 object클래스가 된다\n",
    "- 잘못된 설계시 불필요한 기능이 내장되어 비효율성을 증가시킨다"
   ]
  },
  {
   "cell_type": "code",
   "execution_count": 1,
   "metadata": {},
   "outputs": [],
   "source": [
    "class Human:\n",
    "    \"\"\"사람을 추상화한 클래스\"\"\"\n",
    "    pass"
   ]
  },
  {
   "cell_type": "code",
   "execution_count": 2,
   "metadata": {},
   "outputs": [
    {
     "name": "stdout",
     "output_type": "stream",
     "text": [
      "Help on class Human in module __main__:\n",
      "\n",
      "class Human(builtins.object)\n",
      " |  사람을 추상화한 클래스\n",
      " |\n",
      " |  Data descriptors defined here:\n",
      " |\n",
      " |  __dict__\n",
      " |      dictionary for instance variables\n",
      " |\n",
      " |  __weakref__\n",
      " |      list of weak references to the object\n",
      "\n"
     ]
    }
   ],
   "source": [
    "help(Human)"
   ]
  },
  {
   "cell_type": "code",
   "execution_count": 3,
   "metadata": {},
   "outputs": [],
   "source": [
    "class Human:\n",
    "    \"\"\"사람을 추상화한 클래스\n",
    "       이 클래스를 기반으로 자식 클래스에 상속할 것임\n",
    "    \"\"\"\n",
    "    def __init__(self, name, age):\n",
    "        self.name = name\n",
    "        self.age = age\n",
    "    def intro(self):\n",
    "        print(f'name: {self.name}')\n",
    "        print(f'age: {self.age}')"
   ]
  },
  {
   "cell_type": "code",
   "execution_count": 4,
   "metadata": {},
   "outputs": [
    {
     "name": "stdout",
     "output_type": "stream",
     "text": [
      "Help on class Human in module __main__:\n",
      "\n",
      "class Human(builtins.object)\n",
      " |  Human(name, age)\n",
      " |\n",
      " |  사람을 추상화한 클래스\n",
      " |  이 클래스를 기반으로 자식 클래스에 상속할 것임\n",
      " |\n",
      " |  Methods defined here:\n",
      " |\n",
      " |  __init__(self, name, age)\n",
      " |      Initialize self.  See help(type(self)) for accurate signature.\n",
      " |\n",
      " |  intro(self)\n",
      " |\n",
      " |  ----------------------------------------------------------------------\n",
      " |  Data descriptors defined here:\n",
      " |\n",
      " |  __dict__\n",
      " |      dictionary for instance variables\n",
      " |\n",
      " |  __weakref__\n",
      " |      list of weak references to the object\n",
      "\n"
     ]
    }
   ],
   "source": [
    "help(Human)"
   ]
  },
  {
   "cell_type": "markdown",
   "metadata": {},
   "source": [
    "## 부모 클래스를 물려받기만 한 경우"
   ]
  },
  {
   "cell_type": "code",
   "execution_count": 5,
   "metadata": {},
   "outputs": [],
   "source": [
    "class WhiteHand(Human):\n",
    "    \"\"\"흰손\n",
    "       즉, 백수라고 한다\n",
    "    \"\"\"\n",
    "    pass"
   ]
  },
  {
   "cell_type": "code",
   "execution_count": 6,
   "metadata": {},
   "outputs": [
    {
     "name": "stdout",
     "output_type": "stream",
     "text": [
      "Help on class WhiteHand in module __main__:\n",
      "\n",
      "class WhiteHand(Human)\n",
      " |  WhiteHand(name, age)\n",
      " |\n",
      " |  흰손\n",
      " |  즉, 백수라고 한다\n",
      " |\n",
      " |  Method resolution order:\n",
      " |      WhiteHand\n",
      " |      Human\n",
      " |      builtins.object\n",
      " |\n",
      " |  Methods inherited from Human:\n",
      " |\n",
      " |  __init__(self, name, age)\n",
      " |      Initialize self.  See help(type(self)) for accurate signature.\n",
      " |\n",
      " |  intro(self)\n",
      " |\n",
      " |  ----------------------------------------------------------------------\n",
      " |  Data descriptors inherited from Human:\n",
      " |\n",
      " |  __dict__\n",
      " |      dictionary for instance variables\n",
      " |\n",
      " |  __weakref__\n",
      " |      list of weak references to the object\n",
      "\n"
     ]
    }
   ],
   "source": [
    "help(WhiteHand)"
   ]
  },
  {
   "cell_type": "code",
   "execution_count": 7,
   "metadata": {},
   "outputs": [
    {
     "name": "stdout",
     "output_type": "stream",
     "text": [
      "name: 정주영\n",
      "age: 24\n",
      "name: 이병철\n",
      "age: 33\n"
     ]
    }
   ],
   "source": [
    "wh0 = WhiteHand('정주영', 24)\n",
    "wh0.intro()\n",
    "\n",
    "wh1 = WhiteHand('이병철', 33)\n",
    "wh1.intro()"
   ]
  },
  {
   "cell_type": "markdown",
   "metadata": {},
   "source": [
    "## 부모 클래스 확장"
   ]
  },
  {
   "cell_type": "code",
   "execution_count": 8,
   "metadata": {},
   "outputs": [],
   "source": [
    "class Student(Human):\n",
    "    \"\"\"\n",
    "    부모 클래스(Human)를 확장하는 학생 클래스\n",
    "    \"\"\"\n",
    "    def __init__(self, name, age, stnum):\n",
    "        super().__init__(name, age)     # 부모 생성자 호출\n",
    "        self.stnum = stnum              # 객체가 생성될 때 새로 생성되는 필드\n",
    "    def intro(self):                    # 부모 클래스로부터 물려받은 함수를 덮어쓴다\n",
    "        super().intro()                 # 부모 클래스의 intro() 호출\n",
    "        print(f'stnum: {self.stnum}')   # 기능 추가\n",
    "    def study(self):                    # 새로 추가한 함수\n",
    "        print(f'{self.name} 학생이 열심히 공부한다')"
   ]
  },
  {
   "cell_type": "code",
   "execution_count": 9,
   "metadata": {},
   "outputs": [
    {
     "name": "stdout",
     "output_type": "stream",
     "text": [
      "name: 이율곡\n",
      "age: 47\n",
      "stnum: 1024\n",
      "이율곡 학생이 열심히 공부한다\n"
     ]
    }
   ],
   "source": [
    "st0 = Student('이율곡', 47, '1024')\n",
    "st1 = Student('김시습', 33, '1101')\n",
    "st2 = Student('이퇴계', 56, '1235')\n",
    "\n",
    "st0.intro()\n",
    "st0.study()"
   ]
  },
  {
   "cell_type": "code",
   "execution_count": null,
   "metadata": {},
   "outputs": [],
   "source": []
  }
 ],
 "metadata": {
  "kernelspec": {
   "display_name": "base",
   "language": "python",
   "name": "python3"
  },
  "language_info": {
   "codemirror_mode": {
    "name": "ipython",
    "version": 3
   },
   "file_extension": ".py",
   "mimetype": "text/x-python",
   "name": "python",
   "nbconvert_exporter": "python",
   "pygments_lexer": "ipython3",
   "version": "3.12.4"
  }
 },
 "nbformat": 4,
 "nbformat_minor": 2
}
