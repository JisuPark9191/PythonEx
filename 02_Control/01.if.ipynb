{
 "cells": [
  {
   "cell_type": "markdown",
   "metadata": {},
   "source": [
    "#. 2.1 if문\n",
    "- 조건문\n",
    "- 조건이 참(True)면 실행,\n",
    "  아니면(False) 실행하지 않음\n",
    "- 영역을 표현할 때 {}를 사용하지 않고\n",
    "  들여쓰기를 한다.\n",
    "  \n",
    "```파이썬은 들여쓰기가 매우 중요하다```"
   ]
  },
  {
   "cell_type": "code",
   "execution_count": 3,
   "metadata": {},
   "outputs": [
    {
     "name": "stdout",
     "output_type": "stream",
     "text": [
      "빵 사먹을 수 있다~\n",
      "end\n"
     ]
    }
   ],
   "source": [
    "money = 2000\n",
    "if money >= 1200:\n",
    "    print('빵 사먹을 수 있다~')\n",
    "\n",
    "print('end')"
   ]
  },
  {
   "cell_type": "code",
   "execution_count": 4,
   "metadata": {},
   "outputs": [
    {
     "name": "stdout",
     "output_type": "stream",
     "text": [
      "end\n"
     ]
    }
   ],
   "source": [
    "money = 1000\n",
    "if money >= 1200:\n",
    "    print('빵 사먹을 수 있다~')\n",
    "\n",
    "print('end')"
   ]
  },
  {
   "cell_type": "code",
   "execution_count": 5,
   "metadata": {},
   "outputs": [
    {
     "name": "stdout",
     "output_type": "stream",
     "text": [
      "빵 사먹을 수 있다~\n",
      "end\n"
     ]
    }
   ],
   "source": [
    "money = 2000\n",
    "if (money >= 1200):\n",
    "    print('빵 사먹을 수 있다~')\n",
    "\n",
    "print('end')"
   ]
  },
  {
   "cell_type": "code",
   "execution_count": 8,
   "metadata": {},
   "outputs": [
    {
     "name": "stdout",
     "output_type": "stream",
     "text": [
      "빵 못 사먹는다 TT\n"
     ]
    }
   ],
   "source": [
    "money = int(input('현재 금액은 ? '))\n",
    "if money >= 1200:\n",
    "    print('빵 사먹을 수 있다~')\n",
    "else:\n",
    "    print('빵 못 사먹는다 TT')"
   ]
  },
  {
   "cell_type": "code",
   "execution_count": 9,
   "metadata": {},
   "outputs": [
    {
     "name": "stdout",
     "output_type": "stream",
     "text": [
      "케익 사먹을 수 있다 ^^\n"
     ]
    }
   ],
   "source": [
    "money = int(input('현재 금액은 ?'))\n",
    "if money >= 10000:\n",
    "    print('케익 사먹을 수 있다 ^^')\n",
    "elif money >= 5000:\n",
    "    print('담배 사 필 수 있다 ^^')\n",
    "elif money >= 3000:\n",
    "    print('콜라 마실 수 있다 ^^')\n",
    "elif money >= 1200:\n",
    "    print('빵 사먹을 수 있다 ^^')\n",
    "else:\n",
    "    print('집에서 밥 먹어!')"
   ]
  },
  {
   "cell_type": "code",
   "execution_count": null,
   "metadata": {},
   "outputs": [],
   "source": []
  }
 ],
 "metadata": {
  "kernelspec": {
   "display_name": "base",
   "language": "python",
   "name": "python3"
  },
  "language_info": {
   "codemirror_mode": {
    "name": "ipython",
    "version": 3
   },
   "file_extension": ".py",
   "mimetype": "text/x-python",
   "name": "python",
   "nbconvert_exporter": "python",
   "pygments_lexer": "ipython3",
   "version": "3.12.4"
  }
 },
 "nbformat": 4,
 "nbformat_minor": 2
}
