{
 "cells": [
  {
   "cell_type": "markdown",
   "metadata": {},
   "source": [
    "# 3.2 전역변수와 지역변수\n",
    "- 전역변수 : 함수 밖에 선언하고 어디서나 사용가능한 변수\n",
    "- 지역변수 : 함수나 조건/반복문 같은 특정 영역내에 선언하고 해당 영역이\n",
    "           끝나면 사라지는 변수\n",
    "```전역변수와 지역변수의 이름이 같으면 지역변수가 우선순위를 갖는다```"
   ]
  },
  {
   "cell_type": "code",
   "execution_count": 3,
   "metadata": {},
   "outputs": [
    {
     "name": "stdout",
     "output_type": "stream",
     "text": [
      "a=101\n",
      "a=10\n"
     ]
    }
   ],
   "source": [
    "a = 10                          #  전역 변수\n",
    "\n",
    "def vartest(num):\n",
    "    a = num + 1                 # 지역 변수\n",
    "    print('a=' + str(a))\n",
    "\n",
    "vartest(100)\n",
    "\n",
    "print('a=' + str(a))            # 전역 변수 출력"
   ]
  },
  {
   "cell_type": "code",
   "execution_count": 4,
   "metadata": {},
   "outputs": [
    {
     "name": "stdout",
     "output_type": "stream",
     "text": [
      "a=101\n",
      "a=101\n"
     ]
    }
   ],
   "source": [
    "a = 10                          #  전역 변수\n",
    "\n",
    "def vartest(num):\n",
    "    global a                    # 지역 내에서 명시적으로 전역 변수를 사용할께\n",
    "    a = num + 1                 # 전역 변수\n",
    "    print('a=' + str(a))\n",
    "\n",
    "vartest(100)\n",
    "\n",
    "print('a=' + str(a))            # 전역 변수 출력"
   ]
  },
  {
   "cell_type": "code",
   "execution_count": 5,
   "metadata": {},
   "outputs": [
    {
     "name": "stdout",
     "output_type": "stream",
     "text": [
      "a=101\n",
      "a=101\n"
     ]
    }
   ],
   "source": [
    "a = 10                          #  전역 변수\n",
    "\n",
    "def vartest(num):\n",
    "    a = num + 1                 # 지역 변수\n",
    "    print('a=' + str(a))\n",
    "    return a\n",
    "\n",
    "a = vartest(100)\n",
    "\n",
    "print('a=' + str(a))            # 전역 변수 출력"
   ]
  },
  {
   "cell_type": "code",
   "execution_count": null,
   "metadata": {},
   "outputs": [],
   "source": []
  }
 ],
 "metadata": {
  "kernelspec": {
   "display_name": "base",
   "language": "python",
   "name": "python3"
  },
  "language_info": {
   "codemirror_mode": {
    "name": "ipython",
    "version": 3
   },
   "file_extension": ".py",
   "mimetype": "text/x-python",
   "name": "python",
   "nbconvert_exporter": "python",
   "pygments_lexer": "ipython3",
   "version": "3.12.4"
  }
 },
 "nbformat": 4,
 "nbformat_minor": 2
}
