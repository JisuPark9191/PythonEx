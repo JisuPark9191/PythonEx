{
 "cells": [
  {
   "cell_type": "markdown",
   "metadata": {},
   "source": [
    "# 할리스 커피 매장 정보 추출"
   ]
  },
  {
   "cell_type": "code",
   "execution_count": 15,
   "metadata": {},
   "outputs": [],
   "source": [
    "from bs4 import BeautifulSoup\n",
    "import urllib.request as req\n",
    "import pandas as pd\n",
    "import time"
   ]
  },
  {
   "cell_type": "code",
   "execution_count": 16,
   "metadata": {},
   "outputs": [],
   "source": [
    "base_url = 'https://www.hollys.co.kr/store/korea/korStore2.do?'\n",
    "page_num = 'pageNo='\n",
    "etc_info = '&sido=&gugun=&store='"
   ]
  },
  {
   "cell_type": "code",
   "execution_count": 17,
   "metadata": {},
   "outputs": [],
   "source": [
    "def hollys_store(start=1, end=53):\n",
    "    result = []\n",
    "    for i in range(start, end + 1):\n",
    "        url = base_url + page_num + str(i) + etc_info\n",
    "        print(\"Request => \" + url)\n",
    "        res = req.urlopen(url)\n",
    "        html = res.read().decode('utf-8')\n",
    "        soup = BeautifulSoup(html, 'html.parser')\n",
    "        tbody = soup.find('tbody')\n",
    "        tr_list = tbody.find_all('tr')\n",
    "        for tr in tr_list:\n",
    "            try:\n",
    "                td_list = tr.find_all('td')\n",
    "                store_name = td_list[1].text\n",
    "                store_sido = td_list[0].text\n",
    "                store_address = td_list[3].text\n",
    "                store_phone = td_list[5].text\n",
    "                result.append([store_name]+[store_sido]\n",
    "                              +[store_address]+[store_phone])\n",
    "            except Exception as e:\n",
    "                print('td error ', e)\n",
    "                continue\n",
    "        time.sleep(0.5)\n",
    "\n",
    "    return result"
   ]
  },
  {
   "cell_type": "code",
   "execution_count": 18,
   "metadata": {},
   "outputs": [],
   "source": [
    "def main():\n",
    "    result_list = hollys_store(start=1, end=50)\n",
    "    hollys_table = pd.DataFrame(result_list, columns=('store','sido-gu','address','phone'))\n",
    "    hollys_table.to_csv('hollys.csv', encoding='cp949', mode='w', index=True)"
   ]
  },
  {
   "cell_type": "code",
   "execution_count": 19,
   "metadata": {},
   "outputs": [
    {
     "name": "stdout",
     "output_type": "stream",
     "text": [
      "Request => https://www.hollys.co.kr/store/korea/korStore2.do?pageNo=1&sido=&gugun=&store=\n"
     ]
    }
   ],
   "source": [
    "if __name__ == '__main__':\n",
    "    main()"
   ]
  }
 ],
 "metadata": {
  "kernelspec": {
   "display_name": "base",
   "language": "python",
   "name": "python3"
  },
  "language_info": {
   "codemirror_mode": {
    "name": "ipython",
    "version": 3
   },
   "file_extension": ".py",
   "mimetype": "text/x-python",
   "name": "python",
   "nbconvert_exporter": "python",
   "pygments_lexer": "ipython3",
   "version": "3.12.4"
  }
 },
 "nbformat": 4,
 "nbformat_minor": 2
}
