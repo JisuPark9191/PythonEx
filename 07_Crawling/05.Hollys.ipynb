{
 "cells": [
  {
   "cell_type": "markdown",
   "metadata": {},
   "source": [
    "# 할리스 커피 매장 정보 추출"
   ]
  },
  {
   "cell_type": "code",
   "execution_count": 20,
   "metadata": {},
   "outputs": [],
   "source": [
    "from bs4 import BeautifulSoup\n",
    "import urllib.request as req\n",
    "import pandas as pd\n",
    "import time"
   ]
  },
  {
   "cell_type": "code",
   "execution_count": 21,
   "metadata": {},
   "outputs": [],
   "source": [
    "base_url = 'https://www.hollys.co.kr/store/korea/korStore2.do?'\n",
    "page_num = 'pageNo='\n",
    "etc_info = '&sido=&gugun=&store='"
   ]
  },
  {
   "cell_type": "code",
   "execution_count": 22,
   "metadata": {},
   "outputs": [],
   "source": [
    "def hollys_store(start=1, end=53):\n",
    "    result = []\n",
    "    for i in range(start, end + 1):\n",
    "        url = base_url + page_num + str(i) + etc_info\n",
    "        print(\"Request => \" + url)\n",
    "        res = req.urlopen(url)\n",
    "        html = res.read().decode('utf-8')\n",
    "        soup = BeautifulSoup(html, 'html.parser')\n",
    "        tbody = soup.find('tbody')\n",
    "        tr_list = tbody.find_all('tr')\n",
    "        for tr in tr_list:\n",
    "            try:\n",
    "                td_list = tr.find_all('td')\n",
    "                store_name = td_list[1].text\n",
    "                store_sido = td_list[0].text\n",
    "                store_address = td_list[3].text\n",
    "                store_phone = td_list[5].text\n",
    "                result.append([store_name]+[store_sido]\n",
    "                              +[store_address]+[store_phone])\n",
    "            except Exception as e:\n",
    "                print('td error ', e)\n",
    "                continue\n",
    "        time.sleep(0.5)\n",
    "\n",
    "    return result"
   ]
  },
  {
   "cell_type": "code",
   "execution_count": 23,
   "metadata": {},
   "outputs": [],
   "source": [
    "def main():\n",
    "    result_list = hollys_store(start=1, end=50)\n",
    "    hollys_table = pd.DataFrame(result_list, columns=('store','sido-gu','address','phone'))\n",
    "    hollys_table.to_csv('hollys.csv', encoding='cp949', mode='w', index=True)"
   ]
  },
  {
   "cell_type": "code",
   "execution_count": 24,
   "metadata": {},
   "outputs": [
    {
     "name": "stdout",
     "output_type": "stream",
     "text": [
      "Request => https://www.hollys.co.kr/store/korea/korStore2.do?pageNo=1&sido=&gugun=&store=\n",
      "Request => https://www.hollys.co.kr/store/korea/korStore2.do?pageNo=2&sido=&gugun=&store=\n",
      "Request => https://www.hollys.co.kr/store/korea/korStore2.do?pageNo=3&sido=&gugun=&store=\n",
      "Request => https://www.hollys.co.kr/store/korea/korStore2.do?pageNo=4&sido=&gugun=&store=\n",
      "Request => https://www.hollys.co.kr/store/korea/korStore2.do?pageNo=5&sido=&gugun=&store=\n",
      "Request => https://www.hollys.co.kr/store/korea/korStore2.do?pageNo=6&sido=&gugun=&store=\n",
      "Request => https://www.hollys.co.kr/store/korea/korStore2.do?pageNo=7&sido=&gugun=&store=\n",
      "Request => https://www.hollys.co.kr/store/korea/korStore2.do?pageNo=8&sido=&gugun=&store=\n",
      "Request => https://www.hollys.co.kr/store/korea/korStore2.do?pageNo=9&sido=&gugun=&store=\n",
      "Request => https://www.hollys.co.kr/store/korea/korStore2.do?pageNo=10&sido=&gugun=&store=\n",
      "Request => https://www.hollys.co.kr/store/korea/korStore2.do?pageNo=11&sido=&gugun=&store=\n",
      "Request => https://www.hollys.co.kr/store/korea/korStore2.do?pageNo=12&sido=&gugun=&store=\n",
      "Request => https://www.hollys.co.kr/store/korea/korStore2.do?pageNo=13&sido=&gugun=&store=\n",
      "Request => https://www.hollys.co.kr/store/korea/korStore2.do?pageNo=14&sido=&gugun=&store=\n",
      "Request => https://www.hollys.co.kr/store/korea/korStore2.do?pageNo=15&sido=&gugun=&store=\n",
      "Request => https://www.hollys.co.kr/store/korea/korStore2.do?pageNo=16&sido=&gugun=&store=\n",
      "Request => https://www.hollys.co.kr/store/korea/korStore2.do?pageNo=17&sido=&gugun=&store=\n",
      "Request => https://www.hollys.co.kr/store/korea/korStore2.do?pageNo=18&sido=&gugun=&store=\n",
      "Request => https://www.hollys.co.kr/store/korea/korStore2.do?pageNo=19&sido=&gugun=&store=\n",
      "Request => https://www.hollys.co.kr/store/korea/korStore2.do?pageNo=20&sido=&gugun=&store=\n",
      "Request => https://www.hollys.co.kr/store/korea/korStore2.do?pageNo=21&sido=&gugun=&store=\n",
      "Request => https://www.hollys.co.kr/store/korea/korStore2.do?pageNo=22&sido=&gugun=&store=\n",
      "Request => https://www.hollys.co.kr/store/korea/korStore2.do?pageNo=23&sido=&gugun=&store=\n",
      "Request => https://www.hollys.co.kr/store/korea/korStore2.do?pageNo=24&sido=&gugun=&store=\n",
      "Request => https://www.hollys.co.kr/store/korea/korStore2.do?pageNo=25&sido=&gugun=&store=\n",
      "Request => https://www.hollys.co.kr/store/korea/korStore2.do?pageNo=26&sido=&gugun=&store=\n",
      "Request => https://www.hollys.co.kr/store/korea/korStore2.do?pageNo=27&sido=&gugun=&store=\n",
      "Request => https://www.hollys.co.kr/store/korea/korStore2.do?pageNo=28&sido=&gugun=&store=\n",
      "Request => https://www.hollys.co.kr/store/korea/korStore2.do?pageNo=29&sido=&gugun=&store=\n",
      "Request => https://www.hollys.co.kr/store/korea/korStore2.do?pageNo=30&sido=&gugun=&store=\n",
      "Request => https://www.hollys.co.kr/store/korea/korStore2.do?pageNo=31&sido=&gugun=&store=\n",
      "Request => https://www.hollys.co.kr/store/korea/korStore2.do?pageNo=32&sido=&gugun=&store=\n",
      "Request => https://www.hollys.co.kr/store/korea/korStore2.do?pageNo=33&sido=&gugun=&store=\n",
      "Request => https://www.hollys.co.kr/store/korea/korStore2.do?pageNo=34&sido=&gugun=&store=\n",
      "Request => https://www.hollys.co.kr/store/korea/korStore2.do?pageNo=35&sido=&gugun=&store=\n",
      "Request => https://www.hollys.co.kr/store/korea/korStore2.do?pageNo=36&sido=&gugun=&store=\n",
      "Request => https://www.hollys.co.kr/store/korea/korStore2.do?pageNo=37&sido=&gugun=&store=\n",
      "Request => https://www.hollys.co.kr/store/korea/korStore2.do?pageNo=38&sido=&gugun=&store=\n",
      "Request => https://www.hollys.co.kr/store/korea/korStore2.do?pageNo=39&sido=&gugun=&store=\n",
      "Request => https://www.hollys.co.kr/store/korea/korStore2.do?pageNo=40&sido=&gugun=&store=\n",
      "Request => https://www.hollys.co.kr/store/korea/korStore2.do?pageNo=41&sido=&gugun=&store=\n",
      "Request => https://www.hollys.co.kr/store/korea/korStore2.do?pageNo=42&sido=&gugun=&store=\n",
      "Request => https://www.hollys.co.kr/store/korea/korStore2.do?pageNo=43&sido=&gugun=&store=\n",
      "Request => https://www.hollys.co.kr/store/korea/korStore2.do?pageNo=44&sido=&gugun=&store=\n",
      "Request => https://www.hollys.co.kr/store/korea/korStore2.do?pageNo=45&sido=&gugun=&store=\n",
      "Request => https://www.hollys.co.kr/store/korea/korStore2.do?pageNo=46&sido=&gugun=&store=\n",
      "Request => https://www.hollys.co.kr/store/korea/korStore2.do?pageNo=47&sido=&gugun=&store=\n",
      "Request => https://www.hollys.co.kr/store/korea/korStore2.do?pageNo=48&sido=&gugun=&store=\n",
      "Request => https://www.hollys.co.kr/store/korea/korStore2.do?pageNo=49&sido=&gugun=&store=\n",
      "Request => https://www.hollys.co.kr/store/korea/korStore2.do?pageNo=50&sido=&gugun=&store=\n"
     ]
    }
   ],
   "source": [
    "if __name__ == '__main__':\n",
    "    main()"
   ]
  }
 ],
 "metadata": {
  "kernelspec": {
   "display_name": "base",
   "language": "python",
   "name": "python3"
  },
  "language_info": {
   "codemirror_mode": {
    "name": "ipython",
    "version": 3
   },
   "file_extension": ".py",
   "mimetype": "text/x-python",
   "name": "python",
   "nbconvert_exporter": "python",
   "pygments_lexer": "ipython3",
   "version": "3.12.4"
  }
 },
 "nbformat": 4,
 "nbformat_minor": 2
}
