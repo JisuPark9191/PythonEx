{
 "cells": [
  {
   "cell_type": "markdown",
   "metadata": {},
   "source": [
    "# 데이터 크롤링\n",
    "- OpenAPI 요청 방법\n",
    "- 파일 다운로드(csv, json...)\n",
    "- 웹사이트 수집\n",
    "```\n",
    "   BeautifulSoup \n",
    "   urllib\n",
    "   selenium + chrome : 수집, 웹테스트...\n",
    "```"
   ]
  },
  {
   "cell_type": "code",
   "execution_count": 3,
   "metadata": {},
   "outputs": [
    {
     "data": {
      "text/plain": [
       "('뉴진스.jpg', <http.client.HTTPMessage at 0x2402e9549b0>)"
      ]
     },
     "execution_count": 3,
     "metadata": {},
     "output_type": "execute_result"
    }
   ],
   "source": [
    "import urllib.request\n",
    "\n",
    "url_name = ('https://encrypted-tbn0.gstatic.com/images?q=tbn:ANd9GcSvTIaVJXCXGNN6jailrUM7lLjUBqPvpJfbtA&s', '강아지.jpg')\n",
    "\n",
    "urllib.request.urlretrieve(url_name[0], url_name[1])\n",
    "\n",
    "url_name1 = ('https://image.newsis.com/2023/12/31/NISI20231231_0001449224_web.jpg?rnd=20231231090758', '뉴진스.jpg')\n",
    "\n",
    "urllib.request.urlretrieve(url_name1[0], url_name1[1])"
   ]
  },
  {
   "cell_type": "markdown",
   "metadata": {},
   "source": []
  }
 ],
 "metadata": {
  "kernelspec": {
   "display_name": "base",
   "language": "python",
   "name": "python3"
  },
  "language_info": {
   "codemirror_mode": {
    "name": "ipython",
    "version": 3
   },
   "file_extension": ".py",
   "mimetype": "text/x-python",
   "name": "python",
   "nbconvert_exporter": "python",
   "pygments_lexer": "ipython3",
   "version": "3.12.4"
  }
 },
 "nbformat": 4,
 "nbformat_minor": 2
}
