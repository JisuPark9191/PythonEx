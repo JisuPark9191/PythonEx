{
 "cells": [
  {
   "cell_type": "markdown",
   "metadata": {},
   "source": [
    "# 4.1 FileIO\n",
    "- '프로그램'이 메모리에 로딩되어 수행될 때 이것을 '프로세스'라고 한다\n",
    "- 프로세스는 처리된 값을 메모리에 저장한다.\n",
    "- 프로세스가 끝나면 메모리의 값이 사라진다\n",
    "- 메모리의 값을 보관하려면 디스크에 파일로 저장해야 한다\n",
    "\n",
    "> ## 파일 입출력의 3단계\n",
    ">   > - 네트워크 통신도 동일하다\n",
    ">   >   1. 스트림 생성(프로세스와 디스크간의 연결통로 개설)\n",
    ">   >   2. 읽기/쓰기\n",
    ">   >   3. 스트림 닫기(프로세스와 디스크간의 연결통로 해제)"
   ]
  },
  {
   "cell_type": "code",
   "execution_count": 1,
   "metadata": {},
   "outputs": [],
   "source": [
    "f = open('newfile.txt', 'w')        # 스트림 생성\n",
    "f.close()                           # 스트림 해제"
   ]
  },
  {
   "cell_type": "code",
   "execution_count": 4,
   "metadata": {},
   "outputs": [
    {
     "name": "stdout",
     "output_type": "stream",
     "text": [
      " D ����̺��� ����: �� ����\n",
      " ���� �Ϸ� ��ȣ: 9846-CE2A\n",
      "\n",
      " d:\\Lecture\\pythonEx\\04_FileIO ���͸�\n",
      "\n",
      "2024-10-07  ���� 10:15    <DIR>          .\n",
      "2024-10-07  ���� 10:10    <DIR>          ..\n",
      "2024-10-07  ���� 10:10                 0 01.fileIO.ipynb\n",
      "2024-10-07  ���� 10:15                 0 newfile.txt\n",
      "               2�� ����                   0 ����Ʈ\n",
      "               2�� ���͸�  1,991,106,019,328 ����Ʈ ����\n"
     ]
    }
   ],
   "source": [
    "# windows의 Console창에서 현재 디렉토리 목록 보기\n",
    "# Linux는 ls이다\n",
    "!dir"
   ]
  },
  {
   "cell_type": "markdown",
   "metadata": {},
   "source": [
    "###  파일 쓰기"
   ]
  },
  {
   "cell_type": "code",
   "execution_count": 5,
   "metadata": {},
   "outputs": [],
   "source": [
    "f = open('새파일.txt', 'w', encoding='utf-8')\n",
    "for i in range(1, 11):\n",
    "    data = f'{i}번째 줄입니다\\n'\n",
    "    f.write(data)\n",
    "f.close()"
   ]
  },
  {
   "cell_type": "code",
   "execution_count": 6,
   "metadata": {},
   "outputs": [],
   "source": [
    "# with문이 종료될 때 자동으로 f.close() 호출된다.\n",
    "with open('새파일2.txt', 'w', encoding='utf-8') as f:\n",
    "    for i in range(1, 11):\n",
    "        data = f'{i}번째 줄입니다\\n'\n",
    "        f.write(data)"
   ]
  },
  {
   "cell_type": "markdown",
   "metadata": {},
   "source": [
    "## 파일 읽기"
   ]
  },
  {
   "cell_type": "code",
   "execution_count": 7,
   "metadata": {},
   "outputs": [
    {
     "name": "stdout",
     "output_type": "stream",
     "text": [
      "1번째 줄입니다\n",
      "2번째 줄입니다\n",
      "3번째 줄입니다\n",
      "4번째 줄입니다\n",
      "5번째 줄입니다\n",
      "6번째 줄입니다\n",
      "7번째 줄입니다\n",
      "8번째 줄입니다\n",
      "9번째 줄입니다\n",
      "10번째 줄입니다\n"
     ]
    }
   ],
   "source": [
    "# 한줄씩 읽기\n",
    "with open('새파일.txt', 'r', encoding='utf-8') as f:\n",
    "    while True:\n",
    "        line = f.readline()\n",
    "        if not line:            #  읽은 것이 없다\n",
    "            break\n",
    "        print(line, end='')"
   ]
  },
  {
   "cell_type": "code",
   "execution_count": 8,
   "metadata": {},
   "outputs": [
    {
     "name": "stdout",
     "output_type": "stream",
     "text": [
      "['1번째 줄입니다\\n', '2번째 줄입니다\\n', '3번째 줄입니다\\n', '4번째 줄입니다\\n', '5번째 줄입니다\\n', '6번째 줄입니다\\n', '7번째 줄입니다\\n', '8번째 줄입니다\\n', '9번째 줄입니다\\n', '10번째 줄입니다\\n']\n"
     ]
    }
   ],
   "source": [
    "# 한번에 모두 읽기(리스트로 전달됨)\n",
    "with open('새파일.txt', 'r', encoding='utf-8') as f:\n",
    "    lines = f.readlines()\n",
    "    print(lines)"
   ]
  },
  {
   "cell_type": "code",
   "execution_count": 9,
   "metadata": {},
   "outputs": [
    {
     "data": {
      "text/plain": [
       "'1번째 줄입니다\\n2번째 줄입니다\\n3번째 줄입니다\\n4번째 줄입니다\\n5번째 줄입니다\\n6번째 줄입니다\\n7번째 줄입니다\\n8번째 줄입니다\\n9번째 줄입니다\\n10번째 줄입니다\\n'"
      ]
     },
     "execution_count": 9,
     "metadata": {},
     "output_type": "execute_result"
    }
   ],
   "source": [
    "# 한번에 모두 읽기(문자열로 전달됨)\n",
    "lines = None\n",
    "with open('새파일.txt', 'r', encoding='utf-8') as f:\n",
    "    lines = f.read()\n",
    "\n",
    "lines"
   ]
  },
  {
   "cell_type": "code",
   "execution_count": 10,
   "metadata": {},
   "outputs": [
    {
     "data": {
      "text/plain": [
       "['1번째 줄입니다',\n",
       " '2번째 줄입니다',\n",
       " '3번째 줄입니다',\n",
       " '4번째 줄입니다',\n",
       " '5번째 줄입니다',\n",
       " '6번째 줄입니다',\n",
       " '7번째 줄입니다',\n",
       " '8번째 줄입니다',\n",
       " '9번째 줄입니다',\n",
       " '10번째 줄입니다',\n",
       " '']"
      ]
     },
     "execution_count": 10,
     "metadata": {},
     "output_type": "execute_result"
    }
   ],
   "source": [
    "lines = lines.split('\\n')\n",
    "lines"
   ]
  },
  {
   "cell_type": "code",
   "execution_count": 11,
   "metadata": {},
   "outputs": [
    {
     "data": {
      "text/plain": [
       "['1번째 줄입니다',\n",
       " '2번째 줄입니다',\n",
       " '3번째 줄입니다',\n",
       " '4번째 줄입니다',\n",
       " '5번째 줄입니다',\n",
       " '6번째 줄입니다',\n",
       " '7번째 줄입니다',\n",
       " '8번째 줄입니다',\n",
       " '9번째 줄입니다',\n",
       " '10번째 줄입니다']"
      ]
     },
     "execution_count": 11,
     "metadata": {},
     "output_type": "execute_result"
    }
   ],
   "source": [
    "lines.remove('')\n",
    "lines"
   ]
  },
  {
   "cell_type": "code",
   "execution_count": null,
   "metadata": {},
   "outputs": [],
   "source": []
  }
 ],
 "metadata": {
  "kernelspec": {
   "display_name": "base",
   "language": "python",
   "name": "python3"
  },
  "language_info": {
   "codemirror_mode": {
    "name": "ipython",
    "version": 3
   },
   "file_extension": ".py",
   "mimetype": "text/x-python",
   "name": "python",
   "nbconvert_exporter": "python",
   "pygments_lexer": "ipython3",
   "version": "3.12.4"
  }
 },
 "nbformat": 4,
 "nbformat_minor": 2
}
